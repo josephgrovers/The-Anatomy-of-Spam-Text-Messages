{
 "cells": [
  {
   "cell_type": "markdown",
   "metadata": {},
   "source": [
    "A dating website's schema is represented by a table of people that like other people.\n",
    "The table has three columns. One column is the user_id, another column is the liker_id which\n",
    "is the user_id of the user doing the liking, and the last column is the date time that\n",
    "the like occured.\n",
    "Write a query to count the number of liker's likers (the users that like the likers)\n",
    "if the liker has one.\n",
    "\n",
    "Example:\n",
    "\n",
    "TABLE: likes\n",
    "\n",
    "columns\ttype\n",
    "user_id\tint\n",
    "liker_id\tint\n",
    "created_at\n",
    "\n",
    "user\tliker\n",
    "A\tB\n",
    "B\tC\n",
    "B\tD\n",
    "D\tE\n",
    "\n",
    "\n",
    "user\tcount\n",
    "B\t2\n",
    "D\t1\n",
    "\n",
    "\n"
   ]
  },
  {
   "cell_type": "markdown",
   "metadata": {},
   "source": [
    "SELECT\n",
    "    user,\n",
    "    COUNT(liker)\n",
    "FROM input\n",
    "GROUP BY user\n",
    "WHERE user IN (SELECT user)\n",
    "    AND user IN (SELECT liker)"
   ]
  },
  {
   "cell_type": "markdown",
   "metadata": {},
   "source": [
    "SELECT\n",
    "    user,\n",
    "    liker,\n",
    "    count(user)\n",
    "FROM input\n",
    "GROUP BY user\n",
    "WHERE user IN liker"
   ]
  },
  {
   "cell_type": "markdown",
   "metadata": {},
   "source": [
    "---"
   ]
  },
  {
   "cell_type": "markdown",
   "metadata": {},
   "source": [
    "This question was asked by Facebook.\n",
    "\n",
    "TABLE: USERS\n",
    "\n",
    "columns\ttype\n",
    "id\tint\n",
    "name\tvarchar\n",
    "joined_at\tdatetime\n",
    "city_id\tint\n",
    "device\tint\n",
    "\n",
    "TABLE: USER_COMMENTS\n",
    "\n",
    "columns\ttype\n",
    "user_id\tint\n",
    "body\ttext\n",
    "created_at\tdatetime\n",
    "Write a SQL query to create a histogram of number of comments per user in the month of January 2019. Assume bin buckets class intervals of one."
   ]
  },
  {
   "cell_type": "markdown",
   "metadata": {},
   "source": [
    "SELECT\n",
    "    user_id,\n",
    "    count(*)\n",
    "FROM USER_COMMENTS\n",
    "WHERE created_at \n",
    "GROUP BY user_id"
   ]
  },
  {
   "cell_type": "code",
   "execution_count": null,
   "metadata": {},
   "outputs": [],
   "source": [
    "user comment\n",
    "user comment\n",
    "user comment"
   ]
  },
  {
   "cell_type": "code",
   "execution_count": null,
   "metadata": {},
   "outputs": [],
   "source": [
    "user_id   count of comments\n",
    "user1     25\n",
    "user2     20\n",
    "user3     15"
   ]
  },
  {
   "cell_type": "code",
   "execution_count": null,
   "metadata": {},
   "outputs": [],
   "source": [
    "date count_of_comments\n",
    "1-1   1\n",
    "1-10  4\n",
    "1-14  5\n",
    "1-15  6\n",
    "1-16  5\n",
    "1-25  2"
   ]
  }
 ],
 "metadata": {
  "kernelspec": {
   "display_name": "Python 3",
   "language": "python",
   "name": "python3"
  },
  "language_info": {
   "codemirror_mode": {
    "name": "ipython",
    "version": 3
   },
   "file_extension": ".py",
   "mimetype": "text/x-python",
   "name": "python",
   "nbconvert_exporter": "python",
   "pygments_lexer": "ipython3",
   "version": "3.7.6"
  }
 },
 "nbformat": 4,
 "nbformat_minor": 4
}
